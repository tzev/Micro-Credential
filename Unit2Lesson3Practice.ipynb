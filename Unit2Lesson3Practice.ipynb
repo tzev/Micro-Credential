{
  "nbformat": 4,
  "nbformat_minor": 0,
  "metadata": {
    "colab": {
      "name": "Unit2Lesson3Practice.ipynb",
      "provenance": [],
      "collapsed_sections": [],
      "authorship_tag": "ABX9TyMS3GycWpR57suxiv1tGcS6",
      "include_colab_link": true
    },
    "kernelspec": {
      "name": "python3",
      "display_name": "Python 3"
    }
  },
  "cells": [
    {
      "cell_type": "markdown",
      "metadata": {
        "id": "view-in-github",
        "colab_type": "text"
      },
      "source": [
        "<a href=\"https://colab.research.google.com/github/tzev/Micro-Credential/blob/main/Unit2Lesson3Practice.ipynb\" target=\"_parent\"><img src=\"https://colab.research.google.com/assets/colab-badge.svg\" alt=\"Open In Colab\"/></a>"
      ]
    },
    {
      "cell_type": "code",
      "metadata": {
        "colab": {
          "base_uri": "https://localhost:8080/"
        },
        "id": "MjHRQsdDI_-y",
        "outputId": "047e709a-346f-4559-c2ff-5ceb757b8f7f"
      },
      "source": [
        "#1.\n",
        "for r in range(5):\n",
        "  for c in range(r):\n",
        "      print(\"*\", end=\" \")\n",
        "  print(\"\\n\")\n",
        "for c in range(5, 0, -1):\n",
        "  for r in range(c):\n",
        "      print(\"*\", end=\" \")\n",
        "  print(\"\\n\")"
      ],
      "execution_count": 27,
      "outputs": [
        {
          "output_type": "stream",
          "text": [
            "\n",
            "\n",
            "* \n",
            "\n",
            "* * \n",
            "\n",
            "* * * \n",
            "\n",
            "* * * * \n",
            "\n",
            "* * * * * \n",
            "\n",
            "* * * * \n",
            "\n",
            "* * * \n",
            "\n",
            "* * \n",
            "\n",
            "* \n",
            "\n"
          ],
          "name": "stdout"
        }
      ]
    },
    {
      "cell_type": "code",
      "metadata": {
        "colab": {
          "base_uri": "https://localhost:8080/"
        },
        "id": "ouaspuN-Jri7",
        "outputId": "06459cee-adf1-4883-fcde-04fdfd5ef01c"
      },
      "source": [
        "#2.\n",
        "word = input(\"Enter a word: \")\n",
        "size = len(word)\n",
        "reverse = []\n",
        "while size > 0:\n",
        "  reverse += word[size - 1]\n",
        "  size = size - 1\n",
        "print(reverse)"
      ],
      "execution_count": 44,
      "outputs": [
        {
          "output_type": "stream",
          "text": [
            "Enter a word: hello\n",
            "['o', 'l', 'l', 'e', 'h']\n"
          ],
          "name": "stdout"
        }
      ]
    },
    {
      "cell_type": "code",
      "metadata": {
        "colab": {
          "base_uri": "https://localhost:8080/"
        },
        "id": "XlIB6v87QQoq",
        "outputId": "8e924fcd-d5ee-4249-9f49-8931cd88f3f7"
      },
      "source": [
        "for i in range(6):\n",
        "  if (i==3 or i==6):\n",
        "    continue\n",
        "  else:\n",
        "    print(i)"
      ],
      "execution_count": 46,
      "outputs": [
        {
          "output_type": "stream",
          "text": [
            "0\n",
            "1\n",
            "2\n",
            "4\n",
            "5\n"
          ],
          "name": "stdout"
        }
      ]
    },
    {
      "cell_type": "code",
      "metadata": {
        "colab": {
          "base_uri": "https://localhost:8080/"
        },
        "id": "zmEspcVDRLsL",
        "outputId": "e154b6e4-c426-4f22-a107-6d08c150d589"
      },
      "source": [
        "human = float(input(\"Input a dog's age in human years: \"))\n",
        "if int(human)<=2:\n",
        "  dog = human * 10.5\n",
        "else:\n",
        "  dog = (10.5 * 2) + ((int(human) - 2) * 4)\n",
        "print(\"The dog's age in dog's years is \" + str(dog))"
      ],
      "execution_count": 2,
      "outputs": [
        {
          "output_type": "stream",
          "text": [
            "Input a dog's age in human years: 15\n",
            "The dog's age in dog's years is 73.0\n"
          ],
          "name": "stdout"
        }
      ]
    },
    {
      "cell_type": "code",
      "metadata": {
        "id": "StUh5BBKT0yR"
      },
      "source": [
        ""
      ],
      "execution_count": null,
      "outputs": []
    }
  ]
}