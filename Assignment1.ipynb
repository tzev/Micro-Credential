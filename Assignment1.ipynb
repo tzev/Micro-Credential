{
  "nbformat": 4,
  "nbformat_minor": 0,
  "metadata": {
    "colab": {
      "name": "Assignment1.ipynb",
      "provenance": [],
      "collapsed_sections": [],
      "authorship_tag": "ABX9TyMy1G5JnEXJG7mfXIAn1AdX",
      "include_colab_link": true
    },
    "kernelspec": {
      "name": "python3",
      "display_name": "Python 3"
    }
  },
  "cells": [
    {
      "cell_type": "markdown",
      "metadata": {
        "id": "view-in-github",
        "colab_type": "text"
      },
      "source": [
        "<a href=\"https://colab.research.google.com/github/tzev/Micro-Credential/blob/main/Assignment1.ipynb\" target=\"_parent\"><img src=\"https://colab.research.google.com/assets/colab-badge.svg\" alt=\"Open In Colab\"/></a>"
      ]
    },
    {
      "cell_type": "markdown",
      "metadata": {
        "id": "CCzqMYSCiReQ"
      },
      "source": [
        "Tom Zev: Unit 2 Lesson 2 and Lesson 3 Assignment"
      ]
    },
    {
      "cell_type": "markdown",
      "metadata": {
        "id": "pT1un2ILlm_v"
      },
      "source": [
        "Lesson 2 Assignment"
      ]
    },
    {
      "cell_type": "markdown",
      "metadata": {
        "id": "wH_7pQokitns"
      },
      "source": [
        "1. Python is a programming language that's powerful and easy to read so it's better for beginners as well. "
      ]
    },
    {
      "cell_type": "markdown",
      "metadata": {
        "id": "IlcGIeCFjD7Y"
      },
      "source": [
        "2. Are the following variable names allowed in python?\n",
        "\n",
        "  a. 1_message NOT ALLOWED\n",
        "\n",
        "  b. Greeting_message ALLOWED\n",
        "\n",
        "  c. Message_1 ALLOWED\n",
        "\n",
        "  d. First name NOT ALLOWED\n",
        "\n",
        "  e. Full_name ALLOWED"
      ]
    },
    {
      "cell_type": "code",
      "metadata": {
        "id": "iSG9XDwdkO1Q"
      },
      "source": [
        "#3.\n",
        "string = \"Hello there!\""
      ],
      "execution_count": null,
      "outputs": []
    },
    {
      "cell_type": "code",
      "metadata": {
        "colab": {
          "base_uri": "https://localhost:8080/"
        },
        "id": "iMl9AXpkkUYl",
        "outputId": "45e5928c-2296-474e-81ae-d4630719057e"
      },
      "source": [
        "#4.\n",
        "f_name = \"Tom\"\n",
        "l_name = \"Zev\"\n",
        "e_ext = \"@gmail.com\"\n",
        "email = f_name + l_name + e_ext\n",
        "print(email)"
      ],
      "execution_count": null,
      "outputs": [
        {
          "output_type": "stream",
          "text": [
            "TomZev@gmail.com\n"
          ],
          "name": "stdout"
        }
      ]
    },
    {
      "cell_type": "code",
      "metadata": {
        "colab": {
          "base_uri": "https://localhost:8080/"
        },
        "id": "SVveMG8QkmyU",
        "outputId": "7a8a5aaf-cfa4-4429-8b4e-c72a779ee03b"
      },
      "source": [
        "#5.\n",
        "name = \"John Doe\"\n",
        "print(name.lower())\n",
        "print(name.upper())\n",
        "print(name.title())"
      ],
      "execution_count": null,
      "outputs": [
        {
          "output_type": "stream",
          "text": [
            "john doe\n",
            "JOHN DOE\n",
            "John Doe\n"
          ],
          "name": "stdout"
        }
      ]
    },
    {
      "cell_type": "code",
      "metadata": {
        "colab": {
          "base_uri": "https://localhost:8080/"
        },
        "id": "aN-Z45iGk-HJ",
        "outputId": "3ba6fc3d-3778-4a17-bbef-43c3a9760618"
      },
      "source": [
        "#6.\n",
        "question = input(\"Do you want to hang out on the 15th of this month? \")\n"
      ],
      "execution_count": null,
      "outputs": [
        {
          "output_type": "stream",
          "text": [
            "Do you want to hang out on the 15th of this month? yes\n"
          ],
          "name": "stdout"
        }
      ]
    },
    {
      "cell_type": "markdown",
      "metadata": {
        "id": "v1N6kgiFlr0R"
      },
      "source": [
        "Lesson 3 Assignment"
      ]
    },
    {
      "cell_type": "code",
      "metadata": {
        "id": "oUo2CygUlt5I"
      },
      "source": [
        "#1.\n",
        "tv_shows = [\"Drama\", \"Horror\", \"Comedy\", \"Action\", \"Thriller\"]"
      ],
      "execution_count": null,
      "outputs": []
    },
    {
      "cell_type": "code",
      "metadata": {
        "colab": {
          "base_uri": "https://localhost:8080/"
        },
        "id": "3rLeTQ9Ll9nb",
        "outputId": "10b983e9-0687-466e-c957-3af634980210"
      },
      "source": [
        "#2.\n",
        "print(tv_shows)"
      ],
      "execution_count": null,
      "outputs": [
        {
          "output_type": "stream",
          "text": [
            "['Drama', 'Horror', 'Comedy', 'Action', 'Thriller']\n"
          ],
          "name": "stdout"
        }
      ]
    },
    {
      "cell_type": "code",
      "metadata": {
        "colab": {
          "base_uri": "https://localhost:8080/"
        },
        "id": "E9VnIolAmCdg",
        "outputId": "21852171-095f-445a-9c60-7dafe5d7079e"
      },
      "source": [
        "#3.\n",
        "print(sorted(tv_shows))\n",
        "#the sorted function doesn't change the original list whereas sort does "
      ],
      "execution_count": null,
      "outputs": [
        {
          "output_type": "stream",
          "text": [
            "['Action', 'Comedy', 'Drama', 'Horror', 'Thriller']\n"
          ],
          "name": "stdout"
        }
      ]
    },
    {
      "cell_type": "code",
      "metadata": {
        "colab": {
          "base_uri": "https://localhost:8080/"
        },
        "id": "pO_rhjJhm1lC",
        "outputId": "0730b35a-1032-4125-9980-b74be5b3c700"
      },
      "source": [
        "#4.\n",
        "print(tv_shows)"
      ],
      "execution_count": null,
      "outputs": [
        {
          "output_type": "stream",
          "text": [
            "['Drama', 'Horror', 'Comedy', 'Action', 'Thriller']\n"
          ],
          "name": "stdout"
        }
      ]
    },
    {
      "cell_type": "code",
      "metadata": {
        "colab": {
          "base_uri": "https://localhost:8080/"
        },
        "id": "sIZIzM_tn4CD",
        "outputId": "610c1ea6-8323-43f1-a5c9-64b7321ef5d6"
      },
      "source": [
        "#5.\n",
        "print(sorted(tv_shows, reverse = True))"
      ],
      "execution_count": null,
      "outputs": [
        {
          "output_type": "stream",
          "text": [
            "['Thriller', 'Horror', 'Drama', 'Comedy', 'Action']\n"
          ],
          "name": "stdout"
        }
      ]
    },
    {
      "cell_type": "code",
      "metadata": {
        "colab": {
          "base_uri": "https://localhost:8080/"
        },
        "id": "He54O3VlmgX6",
        "outputId": "8ee216b2-36e5-4006-a9e5-60c82858111e"
      },
      "source": [
        "#6.\n",
        "len(tv_shows)"
      ],
      "execution_count": null,
      "outputs": [
        {
          "output_type": "execute_result",
          "data": {
            "text/plain": [
              "5"
            ]
          },
          "metadata": {
            "tags": []
          },
          "execution_count": 48
        }
      ]
    },
    {
      "cell_type": "code",
      "metadata": {
        "id": "fVat-o8moFcU"
      },
      "source": [
        ""
      ],
      "execution_count": null,
      "outputs": []
    }
  ]
}