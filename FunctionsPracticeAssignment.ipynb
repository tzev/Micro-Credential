{
  "nbformat": 4,
  "nbformat_minor": 0,
  "metadata": {
    "colab": {
      "name": "FunctionsPracticeAssignment.ipynb",
      "provenance": [],
      "collapsed_sections": [],
      "authorship_tag": "ABX9TyOxR5rO/OmxrKvxcmPr1D6L",
      "include_colab_link": true
    },
    "kernelspec": {
      "name": "python3",
      "display_name": "Python 3"
    }
  },
  "cells": [
    {
      "cell_type": "markdown",
      "metadata": {
        "id": "view-in-github",
        "colab_type": "text"
      },
      "source": [
        "<a href=\"https://colab.research.google.com/github/tzev/Micro-Credential/blob/main/FunctionsPracticeAssignment.ipynb\" target=\"_parent\"><img src=\"https://colab.research.google.com/assets/colab-badge.svg\" alt=\"Open In Colab\"/></a>"
      ]
    },
    {
      "cell_type": "code",
      "metadata": {
        "colab": {
          "base_uri": "https://localhost:8080/"
        },
        "id": "MgUmtwviSJh2",
        "outputId": "e6385c46-6e87-4d24-cd53-3aec9023fc8d"
      },
      "source": [
        "def gross_pay(hours, rate):\n",
        "  if hours<=40 and hours>=0:\n",
        "    return hours*rate\n",
        "  elif hours>40:\n",
        "    over_time = hours - 40\n",
        "    return ((40*rate) + (over_time*rate*1.5))\n",
        "  else:\n",
        "    print(\"Invalid input for hours!\")\n",
        "    return 0\n",
        "    \n",
        "def net_pay(hours, rate):\n",
        "  return gross_pay(hours, rate)-(gross_pay(hours, rate)*four_01_k)-(gross_pay(hours, rate)*health_insurance)-\\\n",
        "  (((gross_pay(hours, rate))-((gross_pay(hours, rate)*four_01_k)))*federal_tax)-(((gross_pay(hours, rate))-\\\n",
        "  ((gross_pay(hours, rate)*four_01_k)))*state_tax)\n",
        "\n",
        "def finances(hours, rate):\n",
        "  print(\"Gross Pay: \" + str(gross_pay(hours, rate)))\n",
        "  print(\"401K: \" + str(gross_pay(hours, rate)*four_01_k))\n",
        "  print(\"Health Insurance: \" + str(gross_pay(hours, rate)*health_insurance))\n",
        "  print(\"Federal Tax: \" + str(((gross_pay(hours, rate))-((gross_pay(hours, rate)*four_01_k)))*federal_tax))\n",
        "  print(\"State Tax: \" + str(((gross_pay(hours, rate))-((gross_pay(hours, rate)*four_01_k)))*state_tax))\n",
        "  print(\"Net Pay: \" + str(net_pay(hours, rate)))\n",
        "\n",
        "federal_tax = .2\n",
        "state_tax = .07\n",
        "health_insurance = .05\n",
        "four_01_k = .10\n",
        "\n",
        "hours_worked = float(input(\"Enter hours worked per week: \"))\n",
        "pay_rate = float(input(\"Enter your hourly pay rate: \"))\n",
        "\n",
        "finances(hours_worked, pay_rate)"
      ],
      "execution_count": 45,
      "outputs": [
        {
          "output_type": "stream",
          "text": [
            "Enter hours worked per week: 45\n",
            "Enter your hourly pay rate: 10\n",
            "Gross Pay: 475.0\n",
            "401K: 47.5\n",
            "Health Insurance: 23.75\n",
            "Federal Tax: 85.5\n",
            "State Tax: 29.925000000000004\n",
            "Net Pay: 288.325\n"
          ],
          "name": "stdout"
        }
      ]
    },
    {
      "cell_type": "code",
      "metadata": {
        "id": "SLrKqgTJf9_8"
      },
      "source": [
        ""
      ],
      "execution_count": null,
      "outputs": []
    }
  ]
}