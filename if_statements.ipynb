{
  "nbformat": 4,
  "nbformat_minor": 0,
  "metadata": {
    "colab": {
      "name": "if_statements.ipynb",
      "provenance": [],
      "collapsed_sections": [],
      "authorship_tag": "ABX9TyMcs3pmcIyG8fBFISKi3RL0",
      "include_colab_link": true
    },
    "kernelspec": {
      "name": "python3",
      "display_name": "Python 3"
    }
  },
  "cells": [
    {
      "cell_type": "markdown",
      "metadata": {
        "id": "view-in-github",
        "colab_type": "text"
      },
      "source": [
        "<a href=\"https://colab.research.google.com/github/tzev/Micro-Credential/blob/main/if_statements.ipynb\" target=\"_parent\"><img src=\"https://colab.research.google.com/assets/colab-badge.svg\" alt=\"Open In Colab\"/></a>"
      ]
    },
    {
      "cell_type": "code",
      "metadata": {
        "colab": {
          "base_uri": "https://localhost:8080/"
        },
        "id": "X7ScWh2ndTX8",
        "outputId": "adc27c48-b01c-4b6a-eab3-d5ed209209fb"
      },
      "source": [
        "main_list ={} \n",
        "while True: \n",
        "   names = input(\"Enter name or leave empty to stop: \") \n",
        "   if not names: \n",
        "       break \n",
        "   admins = input(\"Enter yes/no if admin: \") \n",
        "   main_list[names] = admins\n",
        "for name in main_list:\n",
        "  if (main_list[name] == \"yes\"):\n",
        "    print(\"Hello there, Admin \" + name)\n",
        "  else:\n",
        "    print(\"Hello there, \" + name)"
      ],
      "execution_count": null,
      "outputs": [
        {
          "output_type": "stream",
          "text": [
            "Enter name or leave empty to stop: Tom\n",
            "Enter yes/no if admin: yes\n",
            "Enter name or leave empty to stop: James\n",
            "Enter yes/no if admin: no\n",
            "Enter name or leave empty to stop: Jessy\n",
            "Enter yes/no if admin: yes\n",
            "Enter name or leave empty to stop: Lincoln\n",
            "Enter yes/no if admin: no\n",
            "Enter name or leave empty to stop: Adree\n",
            "Enter yes/no if admin: no\n",
            "Enter name or leave empty to stop: \n",
            "Hello there, Admin Tom\n",
            "Hello there, James\n",
            "Hello there, Admin Jessy\n",
            "Hello there, Lincoln\n",
            "Hello there, Adree\n"
          ],
          "name": "stdout"
        }
      ]
    },
    {
      "cell_type": "code",
      "metadata": {
        "colab": {
          "base_uri": "https://localhost:8080/"
        },
        "id": "m26Ih6FZexzB",
        "outputId": "e0308058-f99d-4c7a-f5db-50aa70c5c5f5"
      },
      "source": [
        "numbers = {1,2,3,4,5,6,7,8,9,10}\n",
        "for digit in numbers:\n",
        "  if (digit == 1):\n",
        "    print(str(digit) + \"st\")\n",
        "  elif (digit == 2):\n",
        "    print(str(digit) + 'nd')\n",
        "  elif (digit == 3):\n",
        "    print(str(digit) + 'rd')\n",
        "  else:\n",
        "    print(str(digit) + 'th')\n"
      ],
      "execution_count": null,
      "outputs": [
        {
          "output_type": "stream",
          "text": [
            "1st\n",
            "2nd\n",
            "3rd\n",
            "4th\n",
            "5th\n",
            "6th\n",
            "7th\n",
            "8th\n",
            "9th\n",
            "10th\n"
          ],
          "name": "stdout"
        }
      ]
    },
    {
      "cell_type": "code",
      "metadata": {
        "id": "M2xj7WbOe-2i"
      },
      "source": [
        ""
      ],
      "execution_count": null,
      "outputs": []
    }
  ]
}